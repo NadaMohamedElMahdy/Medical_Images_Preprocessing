{
 "cells": [
  {
   "cell_type": "markdown",
   "metadata": {},
   "source": [
    "Import_Libraries"
   ]
  },
  {
   "cell_type": "code",
   "execution_count": 2,
   "metadata": {
    "scrolled": true
   },
   "outputs": [],
   "source": [
    "import numpy as np\n",
    "import cv2\n",
    "import matplotlib.pyplot as plt"
   ]
  },
  {
   "cell_type": "code",
   "execution_count": 54,
   "metadata": {},
   "outputs": [],
   "source": [
    "#read original image \n",
    "img=cv2.imread(\"D:\\Graduation _Project\\c120.png\")"
   ]
  },
  {
   "cell_type": "code",
   "execution_count": 55,
   "metadata": {
    "scrolled": true
   },
   "outputs": [
    {
     "data": {
      "text/plain": [
       "True"
      ]
     },
     "execution_count": 55,
     "metadata": {},
     "output_type": "execute_result"
    }
   ],
   "source": [
    "#convert to gray scale image\n",
    "gray_img=cv2.cvtColor(img,cv2.COLOR_BGR2GRAY)\n",
    "#save gray_img\n",
    "cv2.imwrite('gray_img.png',gray_img)"
   ]
  },
  {
   "cell_type": "markdown",
   "metadata": {},
   "source": [
    "Diplay Color & Gray Images"
   ]
  },
  {
   "cell_type": "code",
   "execution_count": 56,
   "metadata": {},
   "outputs": [],
   "source": [
    "#Display color_image inside a window\n",
    "cv2.imshow('color image',img)\n",
    "#Display gray_image inside a window\n",
    "cv2.imshow('grayscale image',gray_img)\n",
    "# Waits for a keystroke\n",
    "cv2.waitKey(0)\n",
    "# Destroys all the windows created\n",
    "cv2.destroyAllWindows()"
   ]
  },
  {
   "cell_type": "markdown",
   "metadata": {},
   "source": [
    "Apply Median Filter"
   ]
  },
  {
   "cell_type": "code",
   "execution_count": 57,
   "metadata": {},
   "outputs": [
    {
     "data": {
      "text/plain": [
       "True"
      ]
     },
     "execution_count": 57,
     "metadata": {},
     "output_type": "execute_result"
    }
   ],
   "source": [
    "# apply median filter for smoothning\n",
    "median_img=cv2.medianBlur(gray_img,5)\n",
    "#save median_img\n",
    "cv2.imwrite(\"median_img.png\",median_img)"
   ]
  },
  {
   "cell_type": "markdown",
   "metadata": {},
   "source": [
    "Diplay_Median_Image"
   ]
  },
  {
   "cell_type": "code",
   "execution_count": 58,
   "metadata": {},
   "outputs": [],
   "source": [
    "#show median_img\n",
    "cv2.imshow('grayscale image',median_img)\n",
    "# Waits for a keystroke\n",
    "cv2.waitKey(0)\n",
    "# Destroys all the windows created\n",
    "cv2.destroyAllWindows()"
   ]
  },
  {
   "cell_type": "markdown",
   "metadata": {},
   "source": [
    "Apply Gaussian Filter"
   ]
  },
  {
   "cell_type": "code",
   "execution_count": 59,
   "metadata": {},
   "outputs": [
    {
     "data": {
      "text/plain": [
       "True"
      ]
     },
     "execution_count": 59,
     "metadata": {},
     "output_type": "execute_result"
    }
   ],
   "source": [
    "#apply gaussian filter for smoothning\n",
    "gaussian_img=cv2.GaussianBlur(gray_img,(7,7),0)\n",
    "#save gaussian_img\n",
    "cv2.imwrite(\"gaussian_img.png\",gaussian_img)"
   ]
  },
  {
   "cell_type": "markdown",
   "metadata": {},
   "source": [
    "Display_Gaussian_image"
   ]
  },
  {
   "cell_type": "code",
   "execution_count": 60,
   "metadata": {},
   "outputs": [],
   "source": [
    "#show gaussian_img\n",
    "cv2.imshow('grayscale image',gaussian_img)\n",
    "# Waits for a keystroke\n",
    "cv2.waitKey(0)\n",
    "# Destroys all the windows created\n",
    "cv2.destroyAllWindows()"
   ]
  },
  {
   "cell_type": "markdown",
   "metadata": {},
   "source": [
    "Piecewise-Linear Transformation Functions"
   ]
  },
  {
   "cell_type": "code",
   "execution_count": 61,
   "metadata": {},
   "outputs": [
    {
     "name": "stdout",
     "output_type": "stream",
     "text": [
      "Minimum itensity value in gray_image 53\n",
      "Maximum itensity value in gray_image 245\n"
     ]
    }
   ],
   "source": [
    "# contrast stretching\n",
    "# Find Minimum & Maximum itensities\n",
    "min_itensity = np.amin(gray_img)\n",
    "max_itensity = np.amax(gray_img)\n",
    "print('Minimum itensity value in gray_image {}'.format(min_itensity))\n",
    "print('Maximum itensity value in gray_image {}'.format(max_itensity))\n"
   ]
  },
  {
   "cell_type": "code",
   "execution_count": 62,
   "metadata": {},
   "outputs": [],
   "source": [
    "# Define parameters\n",
    "r1=min_itensity\n",
    "r2=max_itensity\n",
    "s1=0\n",
    "s2=255\n",
    "#Function to map each intensity level to output intensity level\n",
    "def pixel_val(pixel,r1,s1,r2,s2):\n",
    "    if(pixel >= 0 and pixel <= r1):\n",
    "        return (s1 / r1)*pixel\n",
    "    elif(pixel > r1 and pixel <= r2):\n",
    "        return ((s2 - s1)/(r2 - r1)) * (pixel - r1) + s1\n",
    "    else:\n",
    "        return ((255 - s2)/(255 - r2)) * (pixel - r2) + s2\n",
    "    \n",
    " #To vectorize a function so it can be called on every element of a numpy array \n",
    "pixel_val_vectorized=np.vectorize(pixel_val)\n",
    "\n"
   ]
  },
  {
   "cell_type": "markdown",
   "metadata": {},
   "source": [
    "Apply contrast stretch on gray_img , median_img and gaussian_img"
   ]
  },
  {
   "cell_type": "code",
   "execution_count": 63,
   "metadata": {},
   "outputs": [
    {
     "data": {
      "text/plain": [
       "True"
      ]
     },
     "execution_count": 63,
     "metadata": {},
     "output_type": "execute_result"
    }
   ],
   "source": [
    "#Call Function pixel_val_vectorized\n",
    "contrast_gray_img=pixel_val_vectorized(gray_img,r1,s1,r2,s2)\n",
    "contrast_median_img=pixel_val_vectorized(median_img,r1,s1,r2,s2)\n",
    "contrast_gaussian_img=pixel_val_vectorized(gaussian_img,r1,s1,r2,s2)\n",
    "\n",
    "#Save contrast_images\n",
    "cv2.imwrite(\"contrast_gray_img.png\",contrast_gray_img)\n",
    "cv2.imwrite(\"contrast_median_img.png\",contrast_median_img)\n",
    "cv2.imwrite(\"contrast_gaussian_img.png\",contrast_gaussian_img)"
   ]
  },
  {
   "cell_type": "markdown",
   "metadata": {},
   "source": [
    " Feature Extraction "
   ]
  },
  {
   "cell_type": "code",
   "execution_count": 64,
   "metadata": {},
   "outputs": [],
   "source": [
    "#Edge detection using canny edge detector\n",
    "#Canny edge detection high threshold \n",
    "canny_gray_img=cv2.Canny(gray_img,100,200)\n",
    "canny_median_img=cv2.Canny(median_img,100,200)\n",
    "canny_gaussian_img=cv2.Canny(gaussian_img,100,200)"
   ]
  },
  {
   "cell_type": "code",
   "execution_count": 65,
   "metadata": {},
   "outputs": [
    {
     "data": {
      "text/plain": [
       "True"
      ]
     },
     "execution_count": 65,
     "metadata": {},
     "output_type": "execute_result"
    }
   ],
   "source": [
    "#save canny edge detecting images\n",
    "cv2.imwrite(\"canny_gray_img.png\",canny_gray_img)\n",
    "cv2.imwrite(\"canny_median_img.png\",canny_median_img)\n",
    "cv2.imwrite(\"canny_gaussian_img.png\",canny_gaussian_img)"
   ]
  },
  {
   "cell_type": "code",
   "execution_count": 66,
   "metadata": {
    "scrolled": true
   },
   "outputs": [
    {
     "data": {
      "text/plain": [
       "Text(0.5, 1.0, 'canny_gaussian_img')"
      ]
     },
     "execution_count": 66,
     "metadata": {},
     "output_type": "execute_result"
    },
    {
     "data": {
      "image/png": "[encoded data removed]",
      "text/plain": [
       "<Figure size 720x360 with 3 Axes>"
      ]
     },
     "metadata": {
      "needs_background": "light"
     },
     "output_type": "display_data"
    }
   ],
   "source": [
    "#display both original and canny edge detecting images\n",
    "# create figure\n",
    "fig=plt.figure(figsize=(10,5))\n",
    "rows=1\n",
    "columns=3\n",
    "\n",
    "# Add subplots & show canny edge detecting images\n",
    "\n",
    "fig.add_subplot(rows,columns,1)\n",
    "plt.imshow(canny_gray_img)\n",
    "plt.title(\"canny_gray_img\")\n",
    "\n",
    "fig.add_subplot(rows,columns,2)\n",
    "plt.imshow(canny_median_img)\n",
    "plt.title(\"canny_median_img\")\n",
    "\n",
    "fig.add_subplot(rows,columns,3)\n",
    "plt.imshow(canny_gaussian_img)\n",
    "plt.title(\"canny_gaussian_img\")"
   ]
  },
  {
   "cell_type": "code",
   "execution_count": null,
   "metadata": {},
   "outputs": [],
   "source": []
  },
  {
   "cell_type": "code",
   "execution_count": null,
   "metadata": {},
   "outputs": [],
   "source": []
  }
 ],
 "metadata": {
  "kernelspec": {
   "display_name": "Python 3",
   "language": "python",
   "name": "python3"
  },
  "language_info": {
   "codemirror_mode": {
    "name": "ipython",
    "version": 3
   },
   "file_extension": ".py",
   "mimetype": "text/x-python",
   "name": "python",
   "nbconvert_exporter": "python",
   "pygments_lexer": "ipython3",
   "version": "3.8.3"
  }
 },
 "nbformat": 4,
 "nbformat_minor": 4
}
